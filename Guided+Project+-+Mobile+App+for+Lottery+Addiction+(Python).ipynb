{
 "cells": [
  {
   "cell_type": "markdown",
   "metadata": {},
   "source": [
    "# INTRODUCTION\n",
    "\n",
    "We'll be looking at a dataset involving historical data for the Ontario Lottery 6/49 ([found here](https://www.kaggle.com/datascienceai/lottery-dataset)). This had 3665 drawings from 1982 to 2018.  Fundamentally this lottery works with a drawing of 6 numbers from 1 to 49 whereby the number do not get reused in the drawing.  \n",
    "\n",
    "The purpose of this project is to aim at creating a guestimate of the chances of winning this lottery based on historical data.  Here we want to be able to build functions that enable the user to answer questions like: \n",
    "\n",
    "1) What is the probability of winning the big prize with a single ticket?\n",
    "\n",
    "2) What is the probability of winning the big prize if we play 40 different tickets (or any other number)?\n",
    "\n",
    "3) What is the probability of having at least five (or four, or three, or two) winning numbers on a single ticket?\n",
    "\n",
    "The latter matters as a prize is still won (like a small percentage of a pot [less than 5%] or a few thousand of dollars). "
   ]
  },
  {
   "cell_type": "markdown",
   "metadata": {},
   "source": [
    "### STEP 1: Creating Core Functions\n",
    "\n",
    "The 1st goal here is to be able to create functions that produce repeated probabilities and combinations.  In this case, we want to create a function to calculate certain probabilities. In this case, it'll be factorials and combinations."
   ]
  },
  {
   "cell_type": "code",
   "execution_count": 1,
   "metadata": {
    "collapsed": false
   },
   "outputs": [],
   "source": [
    "# Creating factorial function \n",
    "\n",
    "def factorial(n): \n",
    "    value = 1\n",
    "    for i in range(n+1):\n",
    "        if i == 0:\n",
    "            continue\n",
    "        else:\n",
    "            value *= i\n",
    "    return value\n",
    "        \n",
    "# Creating combination function\n",
    "\n",
    "def combination(n, k):\n",
    "    numerator = factorial(n)\n",
    "    denominator = factorial(k) * factorial(n-k)\n",
    "    return numerator/denominator"
   ]
  },
  {
   "cell_type": "markdown",
   "metadata": {},
   "source": [
    "### STEP 2: One-ticket Probability\n",
    "\n",
    "So we want to be able to first calculate the probabilty of winning the big prize with various numbers on a single ticket. Based on the 6/49 lottery, this means numbers from 1-49.  \n",
    "\n",
    "Looking at this, we'll need to write a function that: \n",
    "\n",
    "1) select user input form 1 to 49 (non-replacement)\n",
    "\n",
    "2) 6 numbers that are produced come out as a list that's used to input into the function \n",
    "\n",
    "3) there is a print out of the probability value in a friendly way "
   ]
  },
  {
   "cell_type": "code",
   "execution_count": 2,
   "metadata": {
    "collapsed": false
   },
   "outputs": [
    {
     "name": "stdout",
     "output_type": "stream",
     "text": [
      "7.151123842018516e-08\n",
      "The probability of winning the 6/49 lottery off of 1 ticket is 7.151123842018516e-08%\n"
     ]
    }
   ],
   "source": [
    "# num of possible outcomes \n",
    "\n",
    "total_combos = combination(49,6)\n",
    "total_combos\n",
    "\n",
    "# input 1 combination of 6 digits out of the possible outcomes\n",
    "odds = 1/total_combos\n",
    "print(odds)\n",
    "\n",
    "# Output \n",
    "print(\"The probability of winning the 6/49 lottery off of {} ticket is {}%\".format(1, odds))\n"
   ]
  },
  {
   "cell_type": "code",
   "execution_count": 3,
   "metadata": {
    "collapsed": true
   },
   "outputs": [],
   "source": [
    "def one_ticket_probability(array):\n",
    "    length = len(array)\n",
    "    unique_combo = combination(49, length)\n",
    "    probability = 1/unique_combo\n",
    "    sentence = \"The probability of winning the 6/49 lottery from a single ticket is {}%\".format(probability)\n",
    "    return sentence"
   ]
  },
  {
   "cell_type": "code",
   "execution_count": 4,
   "metadata": {
    "collapsed": false
   },
   "outputs": [
    {
     "data": {
      "text/plain": [
       "'The probability of winning the 6/49 lottery from a single ticket is 7.151123842018516e-08%'"
      ]
     },
     "execution_count": 4,
     "metadata": {},
     "output_type": "execute_result"
    }
   ],
   "source": [
    "one_ticket_probability([1,2,3,4,5,6])"
   ]
  },
  {
   "cell_type": "markdown",
   "metadata": {},
   "source": [
    "### STEP 3: Historical Data Check\n",
    "\n",
    "For the first version of the app, however, users should also be able to compare their ticket against the historical lottery data in Canada and determine whether they would have ever won by now. The data set contains historical data for 3,665 drawings (each row shows data for a single drawing), dating from 1982 to 2018. For each drawing, we can find the six numbers drawn: NUMBER DRAWN 1 to 6. "
   ]
  },
  {
   "cell_type": "code",
   "execution_count": 5,
   "metadata": {
    "collapsed": true
   },
   "outputs": [],
   "source": [
    "import pandas as pd\n",
    "import numpy as np\n",
    "import matplotlib.pyplot as plt\n",
    "\n",
    "% matplotlib inline"
   ]
  },
  {
   "cell_type": "code",
   "execution_count": 6,
   "metadata": {
    "collapsed": false
   },
   "outputs": [
    {
     "name": "stdout",
     "output_type": "stream",
     "text": [
      "(3665, 11)\n"
     ]
    }
   ],
   "source": [
    "data = pd.read_csv(\"649.csv\")\n",
    "print(data.shape)"
   ]
  },
  {
   "cell_type": "code",
   "execution_count": 7,
   "metadata": {
    "collapsed": false
   },
   "outputs": [
    {
     "data": {
      "text/html": [
       "<div>\n",
       "<style scoped>\n",
       "    .dataframe tbody tr th:only-of-type {\n",
       "        vertical-align: middle;\n",
       "    }\n",
       "\n",
       "    .dataframe tbody tr th {\n",
       "        vertical-align: top;\n",
       "    }\n",
       "\n",
       "    .dataframe thead th {\n",
       "        text-align: right;\n",
       "    }\n",
       "</style>\n",
       "<table border=\"1\" class=\"dataframe\">\n",
       "  <thead>\n",
       "    <tr style=\"text-align: right;\">\n",
       "      <th></th>\n",
       "      <th>PRODUCT</th>\n",
       "      <th>DRAW NUMBER</th>\n",
       "      <th>SEQUENCE NUMBER</th>\n",
       "      <th>DRAW DATE</th>\n",
       "      <th>NUMBER DRAWN 1</th>\n",
       "      <th>NUMBER DRAWN 2</th>\n",
       "      <th>NUMBER DRAWN 3</th>\n",
       "      <th>NUMBER DRAWN 4</th>\n",
       "      <th>NUMBER DRAWN 5</th>\n",
       "      <th>NUMBER DRAWN 6</th>\n",
       "      <th>BONUS NUMBER</th>\n",
       "    </tr>\n",
       "  </thead>\n",
       "  <tbody>\n",
       "    <tr>\n",
       "      <th>0</th>\n",
       "      <td>649</td>\n",
       "      <td>1</td>\n",
       "      <td>0</td>\n",
       "      <td>6/12/1982</td>\n",
       "      <td>3</td>\n",
       "      <td>11</td>\n",
       "      <td>12</td>\n",
       "      <td>14</td>\n",
       "      <td>41</td>\n",
       "      <td>43</td>\n",
       "      <td>13</td>\n",
       "    </tr>\n",
       "    <tr>\n",
       "      <th>1</th>\n",
       "      <td>649</td>\n",
       "      <td>2</td>\n",
       "      <td>0</td>\n",
       "      <td>6/19/1982</td>\n",
       "      <td>8</td>\n",
       "      <td>33</td>\n",
       "      <td>36</td>\n",
       "      <td>37</td>\n",
       "      <td>39</td>\n",
       "      <td>41</td>\n",
       "      <td>9</td>\n",
       "    </tr>\n",
       "    <tr>\n",
       "      <th>2</th>\n",
       "      <td>649</td>\n",
       "      <td>3</td>\n",
       "      <td>0</td>\n",
       "      <td>6/26/1982</td>\n",
       "      <td>1</td>\n",
       "      <td>6</td>\n",
       "      <td>23</td>\n",
       "      <td>24</td>\n",
       "      <td>27</td>\n",
       "      <td>39</td>\n",
       "      <td>34</td>\n",
       "    </tr>\n",
       "    <tr>\n",
       "      <th>3</th>\n",
       "      <td>649</td>\n",
       "      <td>4</td>\n",
       "      <td>0</td>\n",
       "      <td>7/3/1982</td>\n",
       "      <td>3</td>\n",
       "      <td>9</td>\n",
       "      <td>10</td>\n",
       "      <td>13</td>\n",
       "      <td>20</td>\n",
       "      <td>43</td>\n",
       "      <td>34</td>\n",
       "    </tr>\n",
       "    <tr>\n",
       "      <th>4</th>\n",
       "      <td>649</td>\n",
       "      <td>5</td>\n",
       "      <td>0</td>\n",
       "      <td>7/10/1982</td>\n",
       "      <td>5</td>\n",
       "      <td>14</td>\n",
       "      <td>21</td>\n",
       "      <td>31</td>\n",
       "      <td>34</td>\n",
       "      <td>47</td>\n",
       "      <td>45</td>\n",
       "    </tr>\n",
       "  </tbody>\n",
       "</table>\n",
       "</div>"
      ],
      "text/plain": [
       "   PRODUCT  DRAW NUMBER  SEQUENCE NUMBER  DRAW DATE  NUMBER DRAWN 1  \\\n",
       "0      649            1                0  6/12/1982               3   \n",
       "1      649            2                0  6/19/1982               8   \n",
       "2      649            3                0  6/26/1982               1   \n",
       "3      649            4                0   7/3/1982               3   \n",
       "4      649            5                0  7/10/1982               5   \n",
       "\n",
       "   NUMBER DRAWN 2  NUMBER DRAWN 3  NUMBER DRAWN 4  NUMBER DRAWN 5  \\\n",
       "0              11              12              14              41   \n",
       "1              33              36              37              39   \n",
       "2               6              23              24              27   \n",
       "3               9              10              13              20   \n",
       "4              14              21              31              34   \n",
       "\n",
       "   NUMBER DRAWN 6  BONUS NUMBER  \n",
       "0              43            13  \n",
       "1              41             9  \n",
       "2              39            34  \n",
       "3              43            34  \n",
       "4              47            45  "
      ]
     },
     "execution_count": 7,
     "metadata": {},
     "output_type": "execute_result"
    }
   ],
   "source": [
    "data.head()"
   ]
  },
  {
   "cell_type": "code",
   "execution_count": 8,
   "metadata": {
    "collapsed": false
   },
   "outputs": [
    {
     "data": {
      "text/html": [
       "<div>\n",
       "<style scoped>\n",
       "    .dataframe tbody tr th:only-of-type {\n",
       "        vertical-align: middle;\n",
       "    }\n",
       "\n",
       "    .dataframe tbody tr th {\n",
       "        vertical-align: top;\n",
       "    }\n",
       "\n",
       "    .dataframe thead th {\n",
       "        text-align: right;\n",
       "    }\n",
       "</style>\n",
       "<table border=\"1\" class=\"dataframe\">\n",
       "  <thead>\n",
       "    <tr style=\"text-align: right;\">\n",
       "      <th></th>\n",
       "      <th>PRODUCT</th>\n",
       "      <th>DRAW NUMBER</th>\n",
       "      <th>SEQUENCE NUMBER</th>\n",
       "      <th>DRAW DATE</th>\n",
       "      <th>NUMBER DRAWN 1</th>\n",
       "      <th>NUMBER DRAWN 2</th>\n",
       "      <th>NUMBER DRAWN 3</th>\n",
       "      <th>NUMBER DRAWN 4</th>\n",
       "      <th>NUMBER DRAWN 5</th>\n",
       "      <th>NUMBER DRAWN 6</th>\n",
       "      <th>BONUS NUMBER</th>\n",
       "    </tr>\n",
       "  </thead>\n",
       "  <tbody>\n",
       "    <tr>\n",
       "      <th>3660</th>\n",
       "      <td>649</td>\n",
       "      <td>3587</td>\n",
       "      <td>0</td>\n",
       "      <td>6/6/2018</td>\n",
       "      <td>10</td>\n",
       "      <td>15</td>\n",
       "      <td>23</td>\n",
       "      <td>38</td>\n",
       "      <td>40</td>\n",
       "      <td>41</td>\n",
       "      <td>35</td>\n",
       "    </tr>\n",
       "    <tr>\n",
       "      <th>3661</th>\n",
       "      <td>649</td>\n",
       "      <td>3588</td>\n",
       "      <td>0</td>\n",
       "      <td>6/9/2018</td>\n",
       "      <td>19</td>\n",
       "      <td>25</td>\n",
       "      <td>31</td>\n",
       "      <td>36</td>\n",
       "      <td>46</td>\n",
       "      <td>47</td>\n",
       "      <td>26</td>\n",
       "    </tr>\n",
       "    <tr>\n",
       "      <th>3662</th>\n",
       "      <td>649</td>\n",
       "      <td>3589</td>\n",
       "      <td>0</td>\n",
       "      <td>6/13/2018</td>\n",
       "      <td>6</td>\n",
       "      <td>22</td>\n",
       "      <td>24</td>\n",
       "      <td>31</td>\n",
       "      <td>32</td>\n",
       "      <td>34</td>\n",
       "      <td>16</td>\n",
       "    </tr>\n",
       "    <tr>\n",
       "      <th>3663</th>\n",
       "      <td>649</td>\n",
       "      <td>3590</td>\n",
       "      <td>0</td>\n",
       "      <td>6/16/2018</td>\n",
       "      <td>2</td>\n",
       "      <td>15</td>\n",
       "      <td>21</td>\n",
       "      <td>31</td>\n",
       "      <td>38</td>\n",
       "      <td>49</td>\n",
       "      <td>8</td>\n",
       "    </tr>\n",
       "    <tr>\n",
       "      <th>3664</th>\n",
       "      <td>649</td>\n",
       "      <td>3591</td>\n",
       "      <td>0</td>\n",
       "      <td>6/20/2018</td>\n",
       "      <td>14</td>\n",
       "      <td>24</td>\n",
       "      <td>31</td>\n",
       "      <td>35</td>\n",
       "      <td>37</td>\n",
       "      <td>48</td>\n",
       "      <td>17</td>\n",
       "    </tr>\n",
       "  </tbody>\n",
       "</table>\n",
       "</div>"
      ],
      "text/plain": [
       "      PRODUCT  DRAW NUMBER  SEQUENCE NUMBER  DRAW DATE  NUMBER DRAWN 1  \\\n",
       "3660      649         3587                0   6/6/2018              10   \n",
       "3661      649         3588                0   6/9/2018              19   \n",
       "3662      649         3589                0  6/13/2018               6   \n",
       "3663      649         3590                0  6/16/2018               2   \n",
       "3664      649         3591                0  6/20/2018              14   \n",
       "\n",
       "      NUMBER DRAWN 2  NUMBER DRAWN 3  NUMBER DRAWN 4  NUMBER DRAWN 5  \\\n",
       "3660              15              23              38              40   \n",
       "3661              25              31              36              46   \n",
       "3662              22              24              31              32   \n",
       "3663              15              21              31              38   \n",
       "3664              24              31              35              37   \n",
       "\n",
       "      NUMBER DRAWN 6  BONUS NUMBER  \n",
       "3660              41            35  \n",
       "3661              47            26  \n",
       "3662              34            16  \n",
       "3663              49             8  \n",
       "3664              48            17  "
      ]
     },
     "execution_count": 8,
     "metadata": {},
     "output_type": "execute_result"
    }
   ],
   "source": [
    "data.tail()"
   ]
  },
  {
   "cell_type": "code",
   "execution_count": 9,
   "metadata": {
    "collapsed": false
   },
   "outputs": [
    {
     "name": "stdout",
     "output_type": "stream",
     "text": [
      "<class 'pandas.core.frame.DataFrame'>\n",
      "RangeIndex: 3665 entries, 0 to 3664\n",
      "Data columns (total 11 columns):\n",
      "PRODUCT            3665 non-null int64\n",
      "DRAW NUMBER        3665 non-null int64\n",
      "SEQUENCE NUMBER    3665 non-null int64\n",
      "DRAW DATE          3665 non-null object\n",
      "NUMBER DRAWN 1     3665 non-null int64\n",
      "NUMBER DRAWN 2     3665 non-null int64\n",
      "NUMBER DRAWN 3     3665 non-null int64\n",
      "NUMBER DRAWN 4     3665 non-null int64\n",
      "NUMBER DRAWN 5     3665 non-null int64\n",
      "NUMBER DRAWN 6     3665 non-null int64\n",
      "BONUS NUMBER       3665 non-null int64\n",
      "dtypes: int64(10), object(1)\n",
      "memory usage: 315.0+ KB\n"
     ]
    }
   ],
   "source": [
    "data.info()"
   ]
  },
  {
   "cell_type": "code",
   "execution_count": 10,
   "metadata": {
    "collapsed": false
   },
   "outputs": [
    {
     "data": {
      "text/html": [
       "<div>\n",
       "<style scoped>\n",
       "    .dataframe tbody tr th:only-of-type {\n",
       "        vertical-align: middle;\n",
       "    }\n",
       "\n",
       "    .dataframe tbody tr th {\n",
       "        vertical-align: top;\n",
       "    }\n",
       "\n",
       "    .dataframe thead th {\n",
       "        text-align: right;\n",
       "    }\n",
       "</style>\n",
       "<table border=\"1\" class=\"dataframe\">\n",
       "  <thead>\n",
       "    <tr style=\"text-align: right;\">\n",
       "      <th></th>\n",
       "      <th>PRODUCT</th>\n",
       "      <th>DRAW NUMBER</th>\n",
       "      <th>SEQUENCE NUMBER</th>\n",
       "      <th>DRAW DATE</th>\n",
       "      <th>NUMBER DRAWN 1</th>\n",
       "      <th>NUMBER DRAWN 2</th>\n",
       "      <th>NUMBER DRAWN 3</th>\n",
       "      <th>NUMBER DRAWN 4</th>\n",
       "      <th>NUMBER DRAWN 5</th>\n",
       "      <th>NUMBER DRAWN 6</th>\n",
       "      <th>BONUS NUMBER</th>\n",
       "    </tr>\n",
       "  </thead>\n",
       "  <tbody>\n",
       "    <tr>\n",
       "      <th>count</th>\n",
       "      <td>3665.0</td>\n",
       "      <td>3665.000000</td>\n",
       "      <td>3665.000000</td>\n",
       "      <td>3665</td>\n",
       "      <td>3665.000000</td>\n",
       "      <td>3665.000000</td>\n",
       "      <td>3665.000000</td>\n",
       "      <td>3665.000000</td>\n",
       "      <td>3665.000000</td>\n",
       "      <td>3665.000000</td>\n",
       "      <td>3665.000000</td>\n",
       "    </tr>\n",
       "    <tr>\n",
       "      <th>unique</th>\n",
       "      <td>NaN</td>\n",
       "      <td>NaN</td>\n",
       "      <td>NaN</td>\n",
       "      <td>3591</td>\n",
       "      <td>NaN</td>\n",
       "      <td>NaN</td>\n",
       "      <td>NaN</td>\n",
       "      <td>NaN</td>\n",
       "      <td>NaN</td>\n",
       "      <td>NaN</td>\n",
       "      <td>NaN</td>\n",
       "    </tr>\n",
       "    <tr>\n",
       "      <th>top</th>\n",
       "      <td>NaN</td>\n",
       "      <td>NaN</td>\n",
       "      <td>NaN</td>\n",
       "      <td>6/30/2012</td>\n",
       "      <td>NaN</td>\n",
       "      <td>NaN</td>\n",
       "      <td>NaN</td>\n",
       "      <td>NaN</td>\n",
       "      <td>NaN</td>\n",
       "      <td>NaN</td>\n",
       "      <td>NaN</td>\n",
       "    </tr>\n",
       "    <tr>\n",
       "      <th>freq</th>\n",
       "      <td>NaN</td>\n",
       "      <td>NaN</td>\n",
       "      <td>NaN</td>\n",
       "      <td>4</td>\n",
       "      <td>NaN</td>\n",
       "      <td>NaN</td>\n",
       "      <td>NaN</td>\n",
       "      <td>NaN</td>\n",
       "      <td>NaN</td>\n",
       "      <td>NaN</td>\n",
       "      <td>NaN</td>\n",
       "    </tr>\n",
       "    <tr>\n",
       "      <th>mean</th>\n",
       "      <td>649.0</td>\n",
       "      <td>1819.494952</td>\n",
       "      <td>0.030832</td>\n",
       "      <td>NaN</td>\n",
       "      <td>7.327694</td>\n",
       "      <td>14.568076</td>\n",
       "      <td>21.890859</td>\n",
       "      <td>28.978445</td>\n",
       "      <td>36.162619</td>\n",
       "      <td>43.099045</td>\n",
       "      <td>24.599454</td>\n",
       "    </tr>\n",
       "    <tr>\n",
       "      <th>std</th>\n",
       "      <td>0.0</td>\n",
       "      <td>1039.239544</td>\n",
       "      <td>0.237984</td>\n",
       "      <td>NaN</td>\n",
       "      <td>5.811669</td>\n",
       "      <td>7.556939</td>\n",
       "      <td>8.170073</td>\n",
       "      <td>8.069724</td>\n",
       "      <td>7.190960</td>\n",
       "      <td>5.506424</td>\n",
       "      <td>14.360038</td>\n",
       "    </tr>\n",
       "    <tr>\n",
       "      <th>min</th>\n",
       "      <td>649.0</td>\n",
       "      <td>1.000000</td>\n",
       "      <td>0.000000</td>\n",
       "      <td>NaN</td>\n",
       "      <td>1.000000</td>\n",
       "      <td>2.000000</td>\n",
       "      <td>3.000000</td>\n",
       "      <td>4.000000</td>\n",
       "      <td>11.000000</td>\n",
       "      <td>13.000000</td>\n",
       "      <td>0.000000</td>\n",
       "    </tr>\n",
       "    <tr>\n",
       "      <th>25%</th>\n",
       "      <td>649.0</td>\n",
       "      <td>917.000000</td>\n",
       "      <td>0.000000</td>\n",
       "      <td>NaN</td>\n",
       "      <td>3.000000</td>\n",
       "      <td>9.000000</td>\n",
       "      <td>16.000000</td>\n",
       "      <td>23.000000</td>\n",
       "      <td>31.000000</td>\n",
       "      <td>40.000000</td>\n",
       "      <td>12.000000</td>\n",
       "    </tr>\n",
       "    <tr>\n",
       "      <th>50%</th>\n",
       "      <td>649.0</td>\n",
       "      <td>1833.000000</td>\n",
       "      <td>0.000000</td>\n",
       "      <td>NaN</td>\n",
       "      <td>6.000000</td>\n",
       "      <td>14.000000</td>\n",
       "      <td>22.000000</td>\n",
       "      <td>30.000000</td>\n",
       "      <td>37.000000</td>\n",
       "      <td>45.000000</td>\n",
       "      <td>25.000000</td>\n",
       "    </tr>\n",
       "    <tr>\n",
       "      <th>75%</th>\n",
       "      <td>649.0</td>\n",
       "      <td>2749.000000</td>\n",
       "      <td>0.000000</td>\n",
       "      <td>NaN</td>\n",
       "      <td>10.000000</td>\n",
       "      <td>20.000000</td>\n",
       "      <td>28.000000</td>\n",
       "      <td>35.000000</td>\n",
       "      <td>42.000000</td>\n",
       "      <td>47.000000</td>\n",
       "      <td>37.000000</td>\n",
       "    </tr>\n",
       "    <tr>\n",
       "      <th>max</th>\n",
       "      <td>649.0</td>\n",
       "      <td>3591.000000</td>\n",
       "      <td>3.000000</td>\n",
       "      <td>NaN</td>\n",
       "      <td>38.000000</td>\n",
       "      <td>43.000000</td>\n",
       "      <td>45.000000</td>\n",
       "      <td>47.000000</td>\n",
       "      <td>48.000000</td>\n",
       "      <td>49.000000</td>\n",
       "      <td>49.000000</td>\n",
       "    </tr>\n",
       "  </tbody>\n",
       "</table>\n",
       "</div>"
      ],
      "text/plain": [
       "        PRODUCT  DRAW NUMBER  SEQUENCE NUMBER  DRAW DATE  NUMBER DRAWN 1  \\\n",
       "count    3665.0  3665.000000      3665.000000       3665     3665.000000   \n",
       "unique      NaN          NaN              NaN       3591             NaN   \n",
       "top         NaN          NaN              NaN  6/30/2012             NaN   \n",
       "freq        NaN          NaN              NaN          4             NaN   \n",
       "mean      649.0  1819.494952         0.030832        NaN        7.327694   \n",
       "std         0.0  1039.239544         0.237984        NaN        5.811669   \n",
       "min       649.0     1.000000         0.000000        NaN        1.000000   \n",
       "25%       649.0   917.000000         0.000000        NaN        3.000000   \n",
       "50%       649.0  1833.000000         0.000000        NaN        6.000000   \n",
       "75%       649.0  2749.000000         0.000000        NaN       10.000000   \n",
       "max       649.0  3591.000000         3.000000        NaN       38.000000   \n",
       "\n",
       "        NUMBER DRAWN 2  NUMBER DRAWN 3  NUMBER DRAWN 4  NUMBER DRAWN 5  \\\n",
       "count      3665.000000     3665.000000     3665.000000     3665.000000   \n",
       "unique             NaN             NaN             NaN             NaN   \n",
       "top                NaN             NaN             NaN             NaN   \n",
       "freq               NaN             NaN             NaN             NaN   \n",
       "mean         14.568076       21.890859       28.978445       36.162619   \n",
       "std           7.556939        8.170073        8.069724        7.190960   \n",
       "min           2.000000        3.000000        4.000000       11.000000   \n",
       "25%           9.000000       16.000000       23.000000       31.000000   \n",
       "50%          14.000000       22.000000       30.000000       37.000000   \n",
       "75%          20.000000       28.000000       35.000000       42.000000   \n",
       "max          43.000000       45.000000       47.000000       48.000000   \n",
       "\n",
       "        NUMBER DRAWN 6  BONUS NUMBER  \n",
       "count      3665.000000   3665.000000  \n",
       "unique             NaN           NaN  \n",
       "top                NaN           NaN  \n",
       "freq               NaN           NaN  \n",
       "mean         43.099045     24.599454  \n",
       "std           5.506424     14.360038  \n",
       "min          13.000000      0.000000  \n",
       "25%          40.000000     12.000000  \n",
       "50%          45.000000     25.000000  \n",
       "75%          47.000000     37.000000  \n",
       "max          49.000000     49.000000  "
      ]
     },
     "execution_count": 10,
     "metadata": {},
     "output_type": "execute_result"
    }
   ],
   "source": [
    "data.describe(include='all')"
   ]
  },
  {
   "cell_type": "markdown",
   "metadata": {},
   "source": [
    "The data doesn't appear to have any missing data and the data appears to be in the correct data type. "
   ]
  },
  {
   "cell_type": "markdown",
   "metadata": {},
   "source": [
    "### STEP 4: Create a function to compare set of numbers with old winning number and put out odds of winning\n",
    "\n",
    "This will need an input of 6 different numbers, which will come out as a list and then using that to create a probability of winning. Since there are a lot of moving parts, best to break it down:"
   ]
  },
  {
   "cell_type": "code",
   "execution_count": 11,
   "metadata": {
    "collapsed": false
   },
   "outputs": [],
   "source": [
    "# Create a function that extracts all winning 6 number from the historical data \n",
    "## Takes in a row in the lottery dataframe as an input and return a set containing all 6 winning number \n",
    "\n",
    "def extract_numbers(row):\n",
    "    row = row[4:10]\n",
    "    return set(row.values) # using .values to return all values \n",
    "    "
   ]
  },
  {
   "cell_type": "code",
   "execution_count": 12,
   "metadata": {
    "collapsed": false
   },
   "outputs": [
    {
     "data": {
      "text/plain": [
       "pandas.core.series.Series"
      ]
     },
     "execution_count": 12,
     "metadata": {},
     "output_type": "execute_result"
    }
   ],
   "source": [
    "type(data.iloc[0:10].apply(extract_numbers, axis = 1))"
   ]
  },
  {
   "cell_type": "code",
   "execution_count": 13,
   "metadata": {
    "collapsed": false
   },
   "outputs": [],
   "source": [
    "# Create a function that takes two input (a list containing user numers and a pandas series containing sets with winning numbers (i.e. use the extract numbers))\n",
    "\n",
    "winning_numbers = data.apply(extract_numbers, axis = 1)\n",
    "\n",
    "def check_historical_occurence(my_numbers, winning_numbers):\n",
    "    conversion = set(my_numbers)\n",
    "    times = 0\n",
    "    \n",
    "    for each in winning_numbers:\n",
    "        if each == conversion:\n",
    "            times += 1\n",
    "    \n",
    "    if times == 0: \n",
    "        print(\"Historically speaking,{} have not been winning numbers for 6/49.\".format(my_numbers))\n",
    "    else:\n",
    "        print(\"The Number of times {} were winning numbers for the 6/49 lottery was {}.\".format(conversion, times))\n",
    "        print(\"The probability of winning with these numbers (historically) are: {}%.\".format(times/len(winning_numbers)))\n",
    "        print(\"Overall, you have a 1 in {} chance of winning the 6/49.\".format(combination(49,6)))"
   ]
  },
  {
   "cell_type": "code",
   "execution_count": 14,
   "metadata": {
    "collapsed": false
   },
   "outputs": [
    {
     "name": "stdout",
     "output_type": "stream",
     "text": [
      "Historically speaking,[11, 17, 23, 25, 32, 48] have not been winning numbers for 6/49.\n",
      "\n",
      "\n",
      "The Number of times {33, 36, 37, 39, 8, 41} were winning numbers for the 6/49 lottery was 1.\n",
      "The probability of winning with these numbers (historically) are: 0.00027285129604365623%.\n",
      "Overall, you have a 1 in 13983816.0 chance of winning the 6/49.\n"
     ]
    }
   ],
   "source": [
    "# Testing out the functions. \n",
    "\n",
    "check_1 = check_historical_occurence([11,17,23,25,32,48], winning_numbers)\n",
    "print(\"\\n\")\n",
    "check_2 = check_historical_occurence([8,33,36,37,39,41], winning_numbers)"
   ]
  },
  {
   "cell_type": "markdown",
   "metadata": {},
   "source": [
    "### Step 5: Multi-ticket Probability\n",
    "\n",
    "Since addicts usually play more than a single ticket on a single draw, the throught process is that more chances of winning. Since I want to help them get a better understanding of their chance of winning, we need to create a function that calculates the chances of winning for any number of different tickets.\n",
    "\n",
    "This means we'll need to have the user input the number of different tickets that they want to play (BUT NOT THE ACTUAL COMBO), which will then output some value b/t 1 adn 13,983,816 and some text indicating your chance of winning the prize.  \n",
    "\n",
    "Oh, because I'm from the province with this lottery, I know that each ticket is like $3.00. So it's also probably a good idea to get some reference of the cost for the number of tickets purchased. "
   ]
  },
  {
   "cell_type": "code",
   "execution_count": 15,
   "metadata": {
    "collapsed": true
   },
   "outputs": [],
   "source": [
    "def multi_ticket_probability(tickets):\n",
    "    cost = 3*tickets\n",
    "    possible_outcomes = combination(49,6)\n",
    "    probability_to_win = tickets/possible_outcomes*100\n",
    "    \n",
    "    print(\"The percentage that you'll win the 6/49 jackpot based on {} ticket(s) purchased is {}%.  Considering that it costs $3.00 per ticket, you'll be spending ${}.\".format(tickets, probability_to_win, cost))\n",
    "    "
   ]
  },
  {
   "cell_type": "code",
   "execution_count": 16,
   "metadata": {
    "collapsed": false
   },
   "outputs": [
    {
     "name": "stdout",
     "output_type": "stream",
     "text": [
      "The percentage that you'll win the 6/49 jackpot based on 1 ticket(s) purchased is 7.151123842018516e-06%.  Considering that it costs $3.00 per ticket, you'll be spending $3.\n",
      "\n",
      "\n",
      "The percentage that you'll win the 6/49 jackpot based on 10 ticket(s) purchased is 7.151123842018517e-05%.  Considering that it costs $3.00 per ticket, you'll be spending $30.\n",
      "\n",
      "\n",
      "The percentage that you'll win the 6/49 jackpot based on 100 ticket(s) purchased is 0.0007151123842018516%.  Considering that it costs $3.00 per ticket, you'll be spending $300.\n",
      "\n",
      "\n",
      "The percentage that you'll win the 6/49 jackpot based on 10000 ticket(s) purchased is 0.07151123842018516%.  Considering that it costs $3.00 per ticket, you'll be spending $30000.\n",
      "\n",
      "\n",
      "The percentage that you'll win the 6/49 jackpot based on 1000000 ticket(s) purchased is 7.151123842018517%.  Considering that it costs $3.00 per ticket, you'll be spending $3000000.\n",
      "\n",
      "\n",
      "The percentage that you'll win the 6/49 jackpot based on 6991908 ticket(s) purchased is 50.0%.  Considering that it costs $3.00 per ticket, you'll be spending $20975724.\n",
      "\n",
      "\n",
      "The percentage that you'll win the 6/49 jackpot based on 13983816 ticket(s) purchased is 100.0%.  Considering that it costs $3.00 per ticket, you'll be spending $41951448.\n",
      "\n",
      "\n"
     ]
    }
   ],
   "source": [
    "for each in [1, 10, 100, 10000, 1000000, 6991908, 13983816]:\n",
    "    multi_ticket_probability(each)\n",
    "    print(\"\\n\")"
   ]
  },
  {
   "cell_type": "markdown",
   "metadata": {},
   "source": [
    "### STEP 6: Less winning Numbers\n",
    "\n",
    "Since you can win smaller prizes with fewer matching numbers (minimum is really 3), we want to reflect this. To do so, we'll need to have an input of 6 different numbers and an integer that represent number of matches with winning number.  This will print out info about the probability of having inputted number of winning number. "
   ]
  },
  {
   "cell_type": "code",
   "execution_count": 35,
   "metadata": {
    "collapsed": false
   },
   "outputs": [],
   "source": [
    "def probability_less_6(integer):\n",
    "    if integer < 2 or integer > 5: \n",
    "        print(\"Pick a value between 2 and 5\")\n",
    "    else:\n",
    "        combination_ticket = combination(6, integer) # Number of possible combinations with for x-number out of 6 total digits\n",
    "        combination_exact = combination(43, 6-integer) # Number of possible successful outcomes out of the remaining numbers (minus ours which is incorrect)\n",
    "        successful_outcomes = combination_ticket * combination_exact\n",
    "        total_outcomes = combination(49,6)\n",
    "        probability_num_successful = successful_outcomes/total_outcomes\n",
    "        percentage = probability_num_successful*100\n",
    "        \n",
    "        print(\"From having {} numbers out of the six correct, I would have {} possible 6-digit combinations available that could've been correct. Given that there are {} possible 6-digit draw combinations, I would expect to have {:,.3f}% chance of achieve this\".format(integer, combination_exact, total_outcomes, percentage))"
   ]
  },
  {
   "cell_type": "code",
   "execution_count": 36,
   "metadata": {
    "collapsed": false
   },
   "outputs": [
    {
     "name": "stdout",
     "output_type": "stream",
     "text": [
      "From having 5 numbers out of the six correct, I would have 43.0 possible 6-digit combinations available that could've been correct. Given that there are 13983816.0 possible 6-digit draw combinations, I would expect to have 0.002% chance of achieve this\n"
     ]
    }
   ],
   "source": [
    "probability_less_6(5)"
   ]
  },
  {
   "cell_type": "code",
   "execution_count": null,
   "metadata": {
    "collapsed": true
   },
   "outputs": [],
   "source": []
  }
 ],
 "metadata": {
  "kernelspec": {
   "display_name": "Python 3",
   "language": "python",
   "name": "python3"
  },
  "language_info": {
   "codemirror_mode": {
    "name": "ipython",
    "version": 3
   },
   "file_extension": ".py",
   "mimetype": "text/x-python",
   "name": "python",
   "nbconvert_exporter": "python",
   "pygments_lexer": "ipython3",
   "version": "3.4.3"
  }
 },
 "nbformat": 4,
 "nbformat_minor": 2
}
